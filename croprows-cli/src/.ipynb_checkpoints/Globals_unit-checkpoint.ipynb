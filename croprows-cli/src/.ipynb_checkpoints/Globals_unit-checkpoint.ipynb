{
 "cells": [
  {
   "cell_type": "code",
   "execution_count": 90,
   "metadata": {
    "collapsed": false
   },
   "outputs": [
    {
     "name": "stdout",
     "output_type": "stream",
     "text": [
      "croprows_globals [ module loaded ]\n",
      "croprows_utils [ module loaded ]\n"
     ]
    },
    {
     "data": {
      "text/plain": [
       "<module 'croprows_utils' from '/home/jovyan/work/core/src/croprows_utils.py'>"
      ]
     },
     "execution_count": 90,
     "metadata": {},
     "output_type": "execute_result"
    }
   ],
   "source": [
    "import croprows_globals as crglobals\n",
    "\n",
    "import croprows_utils as crutils\n",
    "\n",
    "import imp \n",
    "imp.reload(crglobals)\n",
    "imp.reload(crutils)"
   ]
  },
  {
   "cell_type": "code",
   "execution_count": 91,
   "metadata": {
    "collapsed": false
   },
   "outputs": [
    {
     "name": "stdout",
     "output_type": "stream",
     "text": [
      "True\n",
      "croprows.log\n",
      "False\n"
     ]
    }
   ],
   "source": [
    "print(crglobals.DEBUGMODE)\n",
    "print(crglobals.LOGFILE)\n",
    "print(crglobals.SAVELOG)"
   ]
  },
  {
   "cell_type": "code",
   "execution_count": 92,
   "metadata": {
    "collapsed": false
   },
   "outputs": [
    {
     "name": "stdout",
     "output_type": "stream",
     "text": [
      "[[-360, 360], [-90, 90], [-45, 45], [0, 90], [90, 180]]\n",
      "[-360, 360]\n",
      "5\n"
     ]
    }
   ],
   "source": [
    "print(crglobals.SEEDCASES)\n",
    "print(crglobals.SEEDCASES[0])\n",
    "\n",
    "print(crglobals.SEED_SPAN)"
   ]
  },
  {
   "cell_type": "code",
   "execution_count": 93,
   "metadata": {
    "collapsed": false
   },
   "outputs": [
    {
     "name": "stdout",
     "output_type": "stream",
     "text": [
      "1000000000\n"
     ]
    }
   ],
   "source": [
    "print(crglobals.MAX_IMAGE_PIXELS_CFG)"
   ]
  },
  {
   "cell_type": "code",
   "execution_count": 94,
   "metadata": {
    "collapsed": false
   },
   "outputs": [
    {
     "name": "stdout",
     "output_type": "stream",
     "text": [
      "cropped/\n",
      "tile\n",
      ".jpg\n",
      ".jpgw\n",
      ".geojson\n",
      ".aux.xml\n"
     ]
    }
   ],
   "source": [
    "print(crglobals.CROPDIR)\n",
    "print(crglobals.PICNAME)\n",
    "print(crglobals.JPG_EXT)\n",
    "print(crglobals.JPGX_EXT)\n",
    "print(crglobals.GEOJSON_EXT)\n",
    "print(crglobals.AUX_EXT)\n",
    "print(crglobals.NPYOBJ)"
   ]
  },
  {
   "cell_type": "code",
   "execution_count": 95,
   "metadata": {
    "collapsed": false
   },
   "outputs": [
    {
     "name": "stdout",
     "output_type": "stream",
     "text": [
      "20\n"
     ]
    }
   ],
   "source": [
    "print(crglobals.DEF_TILESIZE_M)"
   ]
  },
  {
   "cell_type": "code",
   "execution_count": 96,
   "metadata": {
    "collapsed": false
   },
   "outputs": [
    {
     "name": "stdout",
     "output_type": "stream",
     "text": [
      "Hello Crop Rows Core\n"
     ]
    }
   ],
   "source": [
    "a=\"Crop Rows Core\"\n",
    "crutils.printLogMsg(\"Hello %s\" % (a))"
   ]
  },
  {
   "cell_type": "code",
   "execution_count": null,
   "metadata": {
    "collapsed": true
   },
   "outputs": [],
   "source": []
  }
 ],
 "metadata": {
  "kernelspec": {
   "display_name": "Python 3",
   "language": "python",
   "name": "python3"
  },
  "language_info": {
   "codemirror_mode": {
    "name": "ipython",
    "version": 3
   },
   "file_extension": ".py",
   "mimetype": "text/x-python",
   "name": "python",
   "nbconvert_exporter": "python",
   "pygments_lexer": "ipython3",
   "version": "3.5.2"
  }
 },
 "nbformat": 4,
 "nbformat_minor": 1
}
